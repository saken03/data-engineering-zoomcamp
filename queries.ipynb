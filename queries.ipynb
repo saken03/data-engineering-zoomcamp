{
 "cells": [
  {
   "cell_type": "code",
   "execution_count": null,
   "metadata": {},
   "outputs": [],
   "source": [
    "CREATE OR REPLACE EXTERNAL TABLE \tdtc-de-course-414608.ny_taxi.green_taxi_external\n",
    "OPTIONS (\n",
    "  FORMAT='PARQUET',\n",
    "  URIS=['gs://mage-zoomcamp-saken-serik/*']\n",
    ")"
   ]
  },
  {
   "cell_type": "code",
   "execution_count": null,
   "metadata": {},
   "outputs": [],
   "source": [
    "CREATE OR REPLACE TABLE ny_taxi.green_taxi_materialized\n",
    "AS (\n",
    "  SELECT * FROM \"green_taxi_external\"\n",
    ")"
   ]
  },
  {
   "cell_type": "code",
   "execution_count": null,
   "metadata": {},
   "outputs": [],
   "source": [
    "select count(*)\n",
    "from 'dtc-de-course-414608.ny_taxi.green_data_external'"
   ]
  },
  {
   "cell_type": "code",
   "execution_count": null,
   "metadata": {},
   "outputs": [],
   "source": [
    "select count(distinct PULocationID)\n",
    "from 'dtc-de-course-414608.ny_taxi.green_data_external'"
   ]
  },
  {
   "cell_type": "code",
   "execution_count": null,
   "metadata": {},
   "outputs": [],
   "source": [
    "select count(distinct PULocationID)\n",
    "from 'dtc-de-course-414608.ny_taxi.green_data_external'"
   ]
  }
 ],
 "metadata": {
  "language_info": {
   "name": "python"
  }
 },
 "nbformat": 4,
 "nbformat_minor": 2
}
